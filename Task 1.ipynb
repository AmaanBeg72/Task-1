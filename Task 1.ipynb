{
 "cells": [
  {
   "cell_type": "code",
   "execution_count": 2,
   "metadata": {},
   "outputs": [],
   "source": [
    "import os\n",
    "import requests\n",
    "from bs4 import BeautifulSoup\n",
    "from googlesearch import search\n",
    "\n",
    "def download_images(query, num_images):\n",
    "    # Create a directory to store the downloaded images\n",
    "    if not os.path.exists('images'):\n",
    "        os.makedirs('images')\n",
    "\n",
    "    # Search for images on Google\n",
    "    search_query = f\"{query} photo\"\n",
    "    urls = search(search_query, num_results=num_images, lang='en')\n",
    "\n",
    "    # Download and save the images\n",
    "    count = 0\n",
    "    for url in urls:\n",
    "        response = requests.get(url)\n",
    "        soup = BeautifulSoup(response.content, 'html.parser')\n",
    "        img_tags = soup.find_all('img')\n",
    "\n",
    "        for img in img_tags:\n",
    "            try:\n",
    "                img_url = img['src']\n",
    "                response = requests.get(img_url, stream=True)\n",
    "                if response.status_code == 200:\n",
    "                    file_name = f\"images/{query}_{count}.jpg\"\n",
    "                    with open(file_name, 'wb') as file:\n",
    "                        file.write(response.content)\n",
    "                    count += 1\n",
    "                    if count >= num_images:\n",
    "                        return\n",
    "            except:\n",
    "                continue\n",
    "\n",
    "# Get user input for the person's name\n",
    "person_name = input(\"Enter the name of the person: \")\n",
    "\n",
    "# Download 50 photos of the specified person\n",
    "download_images(person_name, 50)\n",
    "\n"
   ]
  }
 ],
 "metadata": {
  "kernelspec": {
   "display_name": "Python 3",
   "language": "python",
   "name": "python3"
  },
  "language_info": {
   "codemirror_mode": {
    "name": "ipython",
    "version": 3
   },
   "file_extension": ".py",
   "mimetype": "text/x-python",
   "name": "python",
   "nbconvert_exporter": "python",
   "pygments_lexer": "ipython3",
   "version": "3.10.11"
  },
  "orig_nbformat": 4
 },
 "nbformat": 4,
 "nbformat_minor": 2
}
